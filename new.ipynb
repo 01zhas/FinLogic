{
 "cells": [
  {
   "cell_type": "code",
   "execution_count": 6,
   "metadata": {},
   "outputs": [
    {
     "name": "stderr",
     "output_type": "stream",
     "text": [
      "[*********************100%%**********************]  3 of 3 completed\n",
      "[*********************100%%**********************]  2 of 2 completed"
     ]
    },
    {
     "name": "stdout",
     "output_type": "stream",
     "text": [
      "Оптимальное количество акций и криптовалют, и суммы инвестиций:\n",
      "AAPL: 6 акций, сумма инвестирования: $1345.86 / 585156.52 тенге (58.52%)\n",
      "MSFT: 1 акций, сумма инвестирования: $177.66 / 77243.48 тенге (7.72%)\n",
      "ETH-USD: 0.2230 криптовалюты, сумма инвестирования: $776.48 / 337600.00 тенге (33.76%)\n",
      "\n",
      "Общая сумма инвестиций: $2300.00 / 1000000.00 тенге\n"
     ]
    },
    {
     "name": "stderr",
     "output_type": "stream",
     "text": [
      "\n"
     ]
    }
   ],
   "source": [
    "import cvxpy as cp\n",
    "import numpy as np\n",
    "import pandas as pd\n",
    "import yfinance as yf\n",
    "from datetime import datetime\n",
    "\n",
    "# Конвертируем тенге в доллары (примерный курс)\n",
    "KZT_to_USD = 0.0023\n",
    "total_investment_KZT = 1000000  # Общая сумма инвестиций в тенге\n",
    "total_investment = total_investment_KZT * KZT_to_USD  # Конвертация в доллары\n",
    "\n",
    "# Загрузим исторические данные для акций и криптовалют\n",
    "tickers = ['AAPL', 'MSFT', 'GOOGL']\n",
    "crypto_tickers = ['BTC-USD', 'ETH-USD']\n",
    "\n",
    "data_stocks = yf.download(tickers, start='2020-01-01', end=datetime.now())['Adj Close']\n",
    "data_crypto = yf.download(crypto_tickers, start='2020-01-01', end=datetime.now())['Adj Close']\n",
    "\n",
    "returns_stocks = data_stocks.pct_change().dropna()\n",
    "returns_crypto = data_crypto.pct_change().dropna()\n",
    "\n",
    "mean_returns_stocks = returns_stocks.mean().values  # Приведем к numpy массиву\n",
    "mean_returns_crypto = returns_crypto.mean().values  # Приведем к numpy массиву\n",
    "\n",
    "cov_matrix_stocks = returns_stocks.cov().values  # Ковариационная матрица для акций\n",
    "cov_matrix_crypto = returns_crypto.cov().values  # Ковариационная матрица для криптовалют\n",
    "\n",
    "num_assets_stocks = len(tickers)\n",
    "num_assets_crypto = len(crypto_tickers)\n",
    "\n",
    "# Определите переменные\n",
    "shares_stocks = cp.Variable(num_assets_stocks, integer=True)\n",
    "shares_crypto = cp.Variable(num_assets_crypto)\n",
    "\n",
    "# Целевая функция - максимизация ожидаемой прибыли\n",
    "objective = cp.Maximize(mean_returns_stocks @ shares_stocks + mean_returns_crypto @ shares_crypto)\n",
    "\n",
    "# Ограничения\n",
    "risk_tolerance = 0.02  # Примерное допустимое значение стандартного отклонения (2%)\n",
    "\n",
    "constraints = [\n",
    "    shares_stocks >= 0,  # Минимальное количество акций может быть 0\n",
    "    shares_crypto >= 0,  # Минимальное количество криптовалют может быть 0\n",
    "    shares_stocks @ data_stocks.iloc[-1].values + shares_crypto @ data_crypto.iloc[-1].values <= total_investment,  # Общая стоимость портфеля\n",
    "    cp.quad_form(shares_stocks, cov_matrix_stocks) + cp.quad_form(shares_crypto, cov_matrix_crypto) <= risk_tolerance  # Ограничение на риск\n",
    "]\n",
    "\n",
    "# Оптимизация\n",
    "problem = cp.Problem(objective, constraints)\n",
    "problem.solve(solver=cp.GUROBI)\n",
    "\n",
    "# Получим текущие цены акций и криптовалют\n",
    "current_prices_stocks = data_stocks.iloc[-1].values\n",
    "current_prices_crypto = data_crypto.iloc[-1].values\n",
    "\n",
    "investment_amounts_stocks = shares_stocks.value * current_prices_stocks\n",
    "investment_amounts_crypto = shares_crypto.value * current_prices_crypto\n",
    "\n",
    "# Вывод результатов\n",
    "print(\"Оптимальное количество акций и криптовалют, и суммы инвестиций:\")\n",
    "for ticker, num_shares, price, investment in zip(tickers, shares_stocks.value, current_prices_stocks, investment_amounts_stocks):\n",
    "    if num_shares > 0:\n",
    "        investment_KZT = investment / KZT_to_USD  # Конвертация в тенге\n",
    "        investment_percentage = (investment / total_investment) * 100  # Процент от общей суммы\n",
    "        print(f\"{ticker}: {int(num_shares)} акций, сумма инвестирования: ${investment:.2f} / {investment_KZT:.2f} тенге ({investment_percentage:.2f}%)\")\n",
    "\n",
    "for ticker, num_shares, price, investment in zip(crypto_tickers, shares_crypto.value, current_prices_crypto, investment_amounts_crypto):\n",
    "    if num_shares > 0:\n",
    "        investment_KZT = investment / KZT_to_USD  # Конвертация в тенге\n",
    "        investment_percentage = (investment / total_investment) * 100  # Процент от общей суммы\n",
    "        print(f\"{ticker}: {num_shares:.4f} криптовалюты, сумма инвестирования: ${investment:.2f} / {investment_KZT:.2f} тенге ({investment_percentage:.2f}%)\")\n",
    "\n",
    "# Общая сумма инвестиций в долларах и тенге\n",
    "total_investment_dollars = np.sum(investment_amounts_stocks) + np.sum(investment_amounts_crypto)\n",
    "total_investment_tenge = total_investment_dollars / KZT_to_USD\n",
    "\n",
    "print(f\"\\nОбщая сумма инвестиций: ${total_investment_dollars:.2f} / {total_investment_tenge:.2f} тенге\")"
   ]
  },
  {
   "cell_type": "code",
   "execution_count": 14,
   "metadata": {},
   "outputs": [
    {
     "name": "stdout",
     "output_type": "stream",
     "text": [
      "Event 3: Ставка на команду 1 - 50.00\n",
      "Event 4: Ставка на команду 1 - 50.00\n",
      "Event 5: Ставка на команду 1 - 25.00\n"
     ]
    }
   ],
   "source": [
    "def kelly_criterion(probability, odds):\n",
    "    \"\"\"\n",
    "    Рассчитывает размер ставки по критерию Келли.\n",
    "    :param probability: Вероятность победы (от 0 до 1)\n",
    "    :param odds: Коэффициент ставки\n",
    "    :return: Оптимальный процент капитала для ставки\n",
    "    \"\"\"\n",
    "    return (probability * (odds - 1) - (1 - probability)) / (odds - 1)\n",
    "\n",
    "def calculate_bets(bankroll, events, kelly_fraction=0.5, max_bet_fraction=0.05, min_bet_amount=10, min_events=3):\n",
    "    \"\"\"\n",
    "    Рассчитывает суммы ставок на основе заданного банка и событий с уменьшением рисков.\n",
    "    :param bankroll: Общий банк\n",
    "    :param events: Список событий с вероятностями и коэффициентами\n",
    "    :param kelly_fraction: Доля ставки по критерию Келли (например, 0.5 для половинной ставки)\n",
    "    :param max_bet_fraction: Максимальная доля банка, которую можно поставить на одно событие\n",
    "    :param min_bet_amount: Минимальная сумма ставки\n",
    "    :param min_events: Минимальное количество событий для диверсификации\n",
    "    :return: Словарь с рекомендованными ставками\n",
    "    \"\"\"\n",
    "    bets = {}\n",
    "    num_events = len(events)\n",
    "    \n",
    "    if num_events < min_events:\n",
    "        print(f\"Недостаточно событий для диверсификации. Необходимо минимум {min_events}.\")\n",
    "        return bets\n",
    "\n",
    "    for event in events:\n",
    "        probability = event['probability']\n",
    "        odds_1 = event['odds_1']\n",
    "        odds_2 = event['odds_2']\n",
    "        \n",
    "        # Проверка на адекватность коэффициентов и вероятностей\n",
    "        if probability <= 0 or probability >= 1 or odds_1 <= 1 or odds_2 <= 1:\n",
    "            print(f\"Неверные данные для события {event['name']}\")\n",
    "            continue\n",
    "        \n",
    "        kelly_fraction_raw = kelly_criterion(probability, odds_1)\n",
    "        kelly_fraction_adjusted = kelly_fraction * kelly_fraction_raw\n",
    "        bet_amount_1 = bankroll * kelly_fraction_adjusted\n",
    "\n",
    "        kelly_fraction_raw = kelly_criterion(1 - probability, odds_2)\n",
    "        kelly_fraction_adjusted = kelly_fraction * kelly_fraction_raw\n",
    "        bet_amount_2 = bankroll * kelly_fraction_adjusted\n",
    "        \n",
    "        # Ограничение на максимальную ставку\n",
    "        max_bet = bankroll * max_bet_fraction\n",
    "        bet_amount_1 = min(bet_amount_1, max_bet)\n",
    "        bet_amount_2 = min(bet_amount_2, max_bet)\n",
    "        \n",
    "        # Убедиться, что ставка не превышает банк и больше или равна минимальной сумме ставки\n",
    "        bet_amount_1 = max(0, min(bet_amount_1, bankroll))\n",
    "        bet_amount_2 = max(0, min(bet_amount_2, bankroll))\n",
    "        \n",
    "        if bet_amount_1 >= min_bet_amount:\n",
    "            bets[event['name']] = {'team_1': bet_amount_1}\n",
    "        else:\n",
    "            bets[event['name']] = {'team_1': 0}\n",
    "        \n",
    "        if bet_amount_2 >= min_bet_amount:\n",
    "            bets[event['name']]['team_2'] = bet_amount_2\n",
    "        else:\n",
    "            bets[event['name']]['team_2'] = 0\n",
    "\n",
    "    # Перераспределение банка, чтобы каждая ставка была не больше доступного банка\n",
    "    total_bet = sum(bet['team_1'] + bet['team_2'] for bet in bets.values())\n",
    "    if total_bet > bankroll:\n",
    "        for event in bets:\n",
    "            bets[event]['team_1'] = bets[event]['team_1'] * (bankroll / total_bet)\n",
    "            bets[event]['team_2'] = bets[event]['team_2'] * (bankroll / total_bet)\n",
    "    \n",
    "    return bets\n",
    "\n",
    "# Пример использования\n",
    "bankroll = 1000  # Общий банк для ставок\n",
    "\n",
    "# Список событий с именами, вероятностями и коэффициентами\n",
    "events = [\n",
    "    {'name': 'Event 1', 'probability': 0.5, 'odds_1': 2.0, 'odds_2': 1.8},\n",
    "    {'name': 'Event 2', 'probability': 0.4, 'odds_1': 2.5, 'odds_2': 1.6},\n",
    "    {'name': 'Event 3', 'probability': 0.7, 'odds_1': 1.5, 'odds_2': 2.2},\n",
    "    {'name': 'Event 4', 'probability': 0.6, 'odds_1': 1.8, 'odds_2': 2.0},\n",
    "    {'name': 'Event 5', 'probability': 0.55, 'odds_1': 1.9, 'odds_2': 2.1},\n",
    "]\n",
    "\n",
    "bets = calculate_bets(bankroll, events, kelly_fraction=0.5, max_bet_fraction=0.05, min_bet_amount=10, min_events=3)\n",
    "\n",
    "# Вывод результатов\n",
    "for event_name, bet in bets.items():\n",
    "    if bet['team_1'] > 0:\n",
    "        print(f\"{event_name}: Ставка на команду 1 - {bet['team_1']:.2f}\")\n",
    "    if bet['team_2'] > 0:\n",
    "        print(f\"{event_name}: Ставка на команду 2 - {bet['team_2']:.2f}\")"
   ]
  },
  {
   "cell_type": "code",
   "execution_count": 23,
   "metadata": {},
   "outputs": [
    {
     "ename": "KeyError",
     "evalue": "'preMarketPrice'",
     "output_type": "error",
     "traceback": [
      "\u001b[0;31m---------------------------------------------------------------------------\u001b[0m",
      "\u001b[0;31mKeyError\u001b[0m                                  Traceback (most recent call last)",
      "Cell \u001b[0;32mIn[23], line 10\u001b[0m\n\u001b[1;32m      8\u001b[0m \u001b[38;5;66;03m# Пример использования\u001b[39;00m\n\u001b[1;32m      9\u001b[0m ticker_symbol \u001b[38;5;241m=\u001b[39m \u001b[38;5;124m\"\u001b[39m\u001b[38;5;124mAAPL\u001b[39m\u001b[38;5;124m\"\u001b[39m\n\u001b[0;32m---> 10\u001b[0m current_price \u001b[38;5;241m=\u001b[39m \u001b[43mget_current_price\u001b[49m\u001b[43m(\u001b[49m\u001b[43mticker_symbol\u001b[49m\u001b[43m)\u001b[49m\n\u001b[1;32m     11\u001b[0m \u001b[38;5;28mprint\u001b[39m(\u001b[38;5;124mf\u001b[39m\u001b[38;5;124m\"\u001b[39m\u001b[38;5;124mТекущая цена \u001b[39m\u001b[38;5;132;01m{\u001b[39;00mticker_symbol\u001b[38;5;132;01m}\u001b[39;00m\u001b[38;5;124m: \u001b[39m\u001b[38;5;132;01m{\u001b[39;00mcurrent_price\u001b[38;5;132;01m}\u001b[39;00m\u001b[38;5;124m$\u001b[39m\u001b[38;5;124m\"\u001b[39m)\n",
      "Cell \u001b[0;32mIn[23], line 5\u001b[0m, in \u001b[0;36mget_current_price\u001b[0;34m(ticker_symbol)\u001b[0m\n\u001b[1;32m      3\u001b[0m \u001b[38;5;28;01mdef\u001b[39;00m \u001b[38;5;21mget_current_price\u001b[39m(ticker_symbol):\n\u001b[1;32m      4\u001b[0m     ticker \u001b[38;5;241m=\u001b[39m yf\u001b[38;5;241m.\u001b[39mTicker(ticker_symbol)\n\u001b[0;32m----> 5\u001b[0m     current_price \u001b[38;5;241m=\u001b[39m \u001b[43mticker\u001b[49m\u001b[38;5;241;43m.\u001b[39;49m\u001b[43minfo\u001b[49m\u001b[43m[\u001b[49m\u001b[38;5;124;43m\"\u001b[39;49m\u001b[38;5;124;43mpreMarketPrice\u001b[39;49m\u001b[38;5;124;43m\"\u001b[39;49m\u001b[43m]\u001b[49m\n\u001b[1;32m      6\u001b[0m     \u001b[38;5;28;01mreturn\u001b[39;00m current_price\n",
      "\u001b[0;31mKeyError\u001b[0m: 'preMarketPrice'"
     ]
    }
   ],
   "source": [
    "import yfinance as yf\n",
    "\n",
    "def get_current_price(ticker_symbol):\n",
    "    ticker = yf.Ticker(ticker_symbol)\n",
    "    current_price = ticker.info[\"preMarketPrice\"]\n",
    "    return current_price\n",
    "\n",
    "# Пример использования\n",
    "ticker_symbol = \"AAPL\"\n",
    "current_price = get_current_price(ticker_symbol)\n",
    "print(f\"Текущая цена {ticker_symbol}: {current_price}$\")"
   ]
  },
  {
   "cell_type": "code",
   "execution_count": 21,
   "metadata": {},
   "outputs": [
    {
     "data": {
      "text/plain": [
       "lazy-loading dict with keys = ['currency', 'dayHigh', 'dayLow', 'exchange', 'fiftyDayAverage', 'lastPrice', 'lastVolume', 'marketCap', 'open', 'previousClose', 'quoteType', 'regularMarketPreviousClose', 'shares', 'tenDayAverageVolume', 'threeMonthAverageVolume', 'timezone', 'twoHundredDayAverage', 'yearChange', 'yearHigh', 'yearLow']"
      ]
     },
     "execution_count": 21,
     "metadata": {},
     "output_type": "execute_result"
    }
   ],
   "source": [
    "current_price"
   ]
  },
  {
   "cell_type": "code",
   "execution_count": null,
   "metadata": {},
   "outputs": [],
   "source": []
  }
 ],
 "metadata": {
  "kernelspec": {
   "display_name": "Python 3",
   "language": "python",
   "name": "python3"
  },
  "language_info": {
   "codemirror_mode": {
    "name": "ipython",
    "version": 3
   },
   "file_extension": ".py",
   "mimetype": "text/x-python",
   "name": "python",
   "nbconvert_exporter": "python",
   "pygments_lexer": "ipython3",
   "version": "3.12.1"
  }
 },
 "nbformat": 4,
 "nbformat_minor": 2
}
